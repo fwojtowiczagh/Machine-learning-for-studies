{
 "cells": [
  {
   "cell_type": "markdown",
   "metadata": {},
   "source": [
    "## Single Classifier vs Bagging vs Boosting"
   ]
  },
  {
   "cell_type": "code",
   "execution_count": 67,
   "metadata": {},
   "outputs": [],
   "source": [
    "import numpy as np\n",
    "import matplotlib.pyplot as plt\n",
    "import pandas as pd\n",
    "from sklearn.datasets import load_wine\n",
    "from sklearn.tree import DecisionTreeClassifier\n",
    "from sklearn.ensemble import GradientBoostingClassifier, AdaBoostClassifier, BaggingClassifier\n",
    "from sklearn.model_selection import cross_val_score, StratifiedKFold"
   ]
  },
  {
   "cell_type": "code",
   "execution_count": 68,
   "metadata": {},
   "outputs": [],
   "source": [
    "wineRaw = load_wine()\n",
    "\n",
    "wine = pd.DataFrame(data= np.c_[wineRaw['data'], wineRaw['target']],\n",
    "                     columns= wineRaw['feature_names'] + ['target'])"
   ]
  },
  {
   "cell_type": "code",
   "execution_count": 69,
   "metadata": {},
   "outputs": [
    {
     "data": {
      "text/html": [
       "<div>\n",
       "<style scoped>\n",
       "    .dataframe tbody tr th:only-of-type {\n",
       "        vertical-align: middle;\n",
       "    }\n",
       "\n",
       "    .dataframe tbody tr th {\n",
       "        vertical-align: top;\n",
       "    }\n",
       "\n",
       "    .dataframe thead th {\n",
       "        text-align: right;\n",
       "    }\n",
       "</style>\n",
       "<table border=\"1\" class=\"dataframe\">\n",
       "  <thead>\n",
       "    <tr style=\"text-align: right;\">\n",
       "      <th></th>\n",
       "      <th>alcohol</th>\n",
       "      <th>malic_acid</th>\n",
       "      <th>ash</th>\n",
       "      <th>alcalinity_of_ash</th>\n",
       "      <th>magnesium</th>\n",
       "      <th>total_phenols</th>\n",
       "      <th>flavanoids</th>\n",
       "      <th>nonflavanoid_phenols</th>\n",
       "      <th>proanthocyanins</th>\n",
       "      <th>color_intensity</th>\n",
       "      <th>hue</th>\n",
       "      <th>od280/od315_of_diluted_wines</th>\n",
       "      <th>proline</th>\n",
       "      <th>target</th>\n",
       "    </tr>\n",
       "  </thead>\n",
       "  <tbody>\n",
       "    <tr>\n",
       "      <th>0</th>\n",
       "      <td>14.23</td>\n",
       "      <td>1.71</td>\n",
       "      <td>2.43</td>\n",
       "      <td>15.6</td>\n",
       "      <td>127.0</td>\n",
       "      <td>2.80</td>\n",
       "      <td>3.06</td>\n",
       "      <td>0.28</td>\n",
       "      <td>2.29</td>\n",
       "      <td>5.64</td>\n",
       "      <td>1.04</td>\n",
       "      <td>3.92</td>\n",
       "      <td>1065.0</td>\n",
       "      <td>0.0</td>\n",
       "    </tr>\n",
       "    <tr>\n",
       "      <th>1</th>\n",
       "      <td>13.20</td>\n",
       "      <td>1.78</td>\n",
       "      <td>2.14</td>\n",
       "      <td>11.2</td>\n",
       "      <td>100.0</td>\n",
       "      <td>2.65</td>\n",
       "      <td>2.76</td>\n",
       "      <td>0.26</td>\n",
       "      <td>1.28</td>\n",
       "      <td>4.38</td>\n",
       "      <td>1.05</td>\n",
       "      <td>3.40</td>\n",
       "      <td>1050.0</td>\n",
       "      <td>0.0</td>\n",
       "    </tr>\n",
       "    <tr>\n",
       "      <th>2</th>\n",
       "      <td>13.16</td>\n",
       "      <td>2.36</td>\n",
       "      <td>2.67</td>\n",
       "      <td>18.6</td>\n",
       "      <td>101.0</td>\n",
       "      <td>2.80</td>\n",
       "      <td>3.24</td>\n",
       "      <td>0.30</td>\n",
       "      <td>2.81</td>\n",
       "      <td>5.68</td>\n",
       "      <td>1.03</td>\n",
       "      <td>3.17</td>\n",
       "      <td>1185.0</td>\n",
       "      <td>0.0</td>\n",
       "    </tr>\n",
       "    <tr>\n",
       "      <th>3</th>\n",
       "      <td>14.37</td>\n",
       "      <td>1.95</td>\n",
       "      <td>2.50</td>\n",
       "      <td>16.8</td>\n",
       "      <td>113.0</td>\n",
       "      <td>3.85</td>\n",
       "      <td>3.49</td>\n",
       "      <td>0.24</td>\n",
       "      <td>2.18</td>\n",
       "      <td>7.80</td>\n",
       "      <td>0.86</td>\n",
       "      <td>3.45</td>\n",
       "      <td>1480.0</td>\n",
       "      <td>0.0</td>\n",
       "    </tr>\n",
       "    <tr>\n",
       "      <th>4</th>\n",
       "      <td>13.24</td>\n",
       "      <td>2.59</td>\n",
       "      <td>2.87</td>\n",
       "      <td>21.0</td>\n",
       "      <td>118.0</td>\n",
       "      <td>2.80</td>\n",
       "      <td>2.69</td>\n",
       "      <td>0.39</td>\n",
       "      <td>1.82</td>\n",
       "      <td>4.32</td>\n",
       "      <td>1.04</td>\n",
       "      <td>2.93</td>\n",
       "      <td>735.0</td>\n",
       "      <td>0.0</td>\n",
       "    </tr>\n",
       "  </tbody>\n",
       "</table>\n",
       "</div>"
      ],
      "text/plain": [
       "   alcohol  malic_acid   ash  alcalinity_of_ash  magnesium  total_phenols  \\\n",
       "0    14.23        1.71  2.43               15.6      127.0           2.80   \n",
       "1    13.20        1.78  2.14               11.2      100.0           2.65   \n",
       "2    13.16        2.36  2.67               18.6      101.0           2.80   \n",
       "3    14.37        1.95  2.50               16.8      113.0           3.85   \n",
       "4    13.24        2.59  2.87               21.0      118.0           2.80   \n",
       "\n",
       "   flavanoids  nonflavanoid_phenols  proanthocyanins  color_intensity   hue  \\\n",
       "0        3.06                  0.28             2.29             5.64  1.04   \n",
       "1        2.76                  0.26             1.28             4.38  1.05   \n",
       "2        3.24                  0.30             2.81             5.68  1.03   \n",
       "3        3.49                  0.24             2.18             7.80  0.86   \n",
       "4        2.69                  0.39             1.82             4.32  1.04   \n",
       "\n",
       "   od280/od315_of_diluted_wines  proline  target  \n",
       "0                          3.92   1065.0     0.0  \n",
       "1                          3.40   1050.0     0.0  \n",
       "2                          3.17   1185.0     0.0  \n",
       "3                          3.45   1480.0     0.0  \n",
       "4                          2.93    735.0     0.0  "
      ]
     },
     "execution_count": 69,
     "metadata": {},
     "output_type": "execute_result"
    }
   ],
   "source": [
    "wine.head()  # chceck the data"
   ]
  },
  {
   "cell_type": "code",
   "execution_count": 70,
   "metadata": {},
   "outputs": [
    {
     "data": {
      "text/plain": [
       "(178, 14)"
      ]
     },
     "execution_count": 70,
     "metadata": {},
     "output_type": "execute_result"
    }
   ],
   "source": [
    "wine.shape"
   ]
  },
  {
   "cell_type": "code",
   "execution_count": 71,
   "metadata": {},
   "outputs": [],
   "source": [
    "# There I create all the models with given parameters\n",
    "decisiontree = DecisionTreeClassifier(min_samples_leaf=3, random_state=1)\n",
    "bagging = BaggingClassifier(base_estimator=DecisionTreeClassifier(min_samples_leaf=3, random_state=1), n_estimators=50)\n",
    "adaboost = AdaBoostClassifier(base_estimator=DecisionTreeClassifier(max_depth=1, min_samples_leaf=3, random_state=1), \n",
    "                              n_estimators=50, algorithm='SAMME')\n",
    "gradientboosting = GradientBoostingClassifier(learning_rate=1.0,subsample= 0.5, max_depth=1, n_estimators=50, \n",
    "                                              min_samples_leaf=3, random_state=1)"
   ]
  },
  {
   "cell_type": "code",
   "execution_count": 72,
   "metadata": {},
   "outputs": [],
   "source": [
    "# Splitting the data\n",
    "X = wine.iloc[:, 0:13]\n",
    "y = wine.iloc[:, 13]"
   ]
  },
  {
   "cell_type": "code",
   "execution_count": 73,
   "metadata": {},
   "outputs": [
    {
     "name": "stdout",
     "output_type": "stream",
     "text": [
      "Decision tree scores: [0.94444444 0.80555556 0.80555556 0.91428571 0.97142857], (avg: 0.8882539682539681)\n",
      "Bagging scores: [0.94444444 0.86111111 0.94444444 0.97142857 1.        ], (avg: 0.9442857142857143)\n",
      "AdaBoost scores: [0.83333333 0.91666667 0.91666667 1.         1.        ], (avg: 0.9333333333333332)\n",
      "Gradient boosting scores: [0.91666667 0.97222222 0.97222222 0.42857143 0.97142857], (avg: 0.8522222222222222)\n"
     ]
    }
   ],
   "source": [
    "# Calculating a score by cross-validation for every model\n",
    "decisiontree_score = cross_val_score(decisiontree, X, y, cv=5)\n",
    "decisiontree_score_mean = decisiontree_score.mean()\n",
    "\n",
    "bagging_score = cross_val_score(bagging, X, y, cv=5)\n",
    "bagging_score_mean = bagging_score.mean()\n",
    "\n",
    "adaboost_score = cross_val_score(adaboost, X, y, cv=5)\n",
    "adaboost_score_mean = adaboost_score.mean()\n",
    "\n",
    "gradientboosting_score = cross_val_score(gradientboosting, X, y, cv=5)\n",
    "gradientboosting_score_mean = gradientboosting_score.mean()\n",
    "\n",
    "models = ['Decision tree', 'Bagging', 'AdaBoost', 'Gradient boosting']\n",
    "scores = [decisiontree_score, bagging_score, adaboost_score, gradientboosting_score]\n",
    "means = [decisiontree_score_mean, bagging_score_mean, adaboost_score_mean, gradientboosting_score_mean]\n",
    "\n",
    "for i in range(4):\n",
    "    print('{} scores: {}, (avg: {})'.format(models[i], scores[i], means[i]))"
   ]
  },
  {
   "cell_type": "code",
   "execution_count": 74,
   "metadata": {},
   "outputs": [
    {
     "name": "stdout",
     "output_type": "stream",
     "text": [
      "Decision tree scores: [0.94444444 0.80555556 0.80555556 0.91428571 0.97142857], (avg: 0.8882539682539681)\n",
      "Bagging scores: [0.94444444 0.88888889 0.97222222 0.97142857 1.        ], (avg: 0.9553968253968254)\n",
      "AdaBoost scores: [0.83333333 0.91666667 0.91666667 1.         1.        ], (avg: 0.9333333333333332)\n",
      "Gradient boosting scores: [0.91666667 0.97222222 0.97222222 0.42857143 0.97142857], (avg: 0.8522222222222222)\n"
     ]
    }
   ],
   "source": [
    "# Calculating a score by Stratified K-Folds cross-validator\n",
    "models = ['Decision tree', 'Bagging', 'AdaBoost', 'Gradient boosting']\n",
    "scores = np.zeros((4, 5))\n",
    "col = 0\n",
    "\n",
    "skf = StratifiedKFold(n_splits=5)\n",
    "for train_index, test_index in skf.split(X, y):\n",
    "    X_train, X_test = X.to_numpy()[train_index], X.to_numpy()[test_index]\n",
    "    y_train, y_test = y.to_numpy()[train_index], y.to_numpy()[test_index]\n",
    "    \n",
    "    decisiontree.fit(X_train, y_train)\n",
    "    y_pred = decisiontree.predict(X_test)\n",
    "    scores[0, col] = decisiontree.score(X_test, y_test)\n",
    "    \n",
    "    bagging.fit(X_train, y_train)\n",
    "    y_pred = bagging.predict(X_test)\n",
    "    scores[1, col] = bagging.score(X_test, y_test)\n",
    "    \n",
    "    adaboost.fit(X_train, y_train)\n",
    "    y_pred = adaboost.predict(X_test)\n",
    "    scores[2, col] = adaboost.score(X_test, y_test)\n",
    "    \n",
    "    gradientboosting.fit(X_train, y_train)\n",
    "    y_pred = gradientboosting.predict(X_test)\n",
    "    scores[3, col] = gradientboosting.score(X_test, y_test)\n",
    "    \n",
    "    col += 1\n",
    "\n",
    "for i in range(4):\n",
    "    print('{} scores: {}, (avg: {})'.format(models[i], scores[i, :], scores[i, :].mean()))"
   ]
  },
  {
   "cell_type": "markdown",
   "metadata": {},
   "source": [
    "**The accuracy from both 'cross_val_score' and 'StratifiedKFold' are practically the same, only for bagging model the average accuracy is slightly different.**"
   ]
  },
  {
   "cell_type": "code",
   "execution_count": 75,
   "metadata": {},
   "outputs": [
    {
     "data": {
      "image/png": "[encoded data removed]",
      "text/plain": [
       "<Figure size 1440x576 with 1 Axes>"
      ]
     },
     "metadata": {
      "needs_background": "light"
     },
     "output_type": "display_data"
    }
   ],
   "source": [
    "# There I approximate the number of iterations after which the Gradient Boosting model yields almost no further improvement \n",
    "gradientboosting_OBB = GradientBoostingClassifier(learning_rate=1.0,subsample= 0.5, max_depth=1, n_estimators=50, \n",
    "                                                  min_samples_leaf=3, random_state=1)\n",
    "gradientboosting_OBB.fit(X, y)\n",
    "cumulative_improvement = np.cumsum(gradientboosting_OBB.oob_improvement_)\n",
    "\n",
    "it = np.linspace(0, len(cumulative_improvement)-1, len(cumulative_improvement))\n",
    "\n",
    "plt.figure(figsize=(20, 8))\n",
    "plt.plot(cumulative_improvement)\n",
    "plt.xticks(it)\n",
    "plt.grid()\n",
    "plt.show()"
   ]
  },
  {
   "cell_type": "markdown",
   "metadata": {},
   "source": [
    "**The plot above shows, that when we reach about 20 iterations, the Gradient Boosting model yields almost no further improvement.**"
   ]
  }
 ],
 "metadata": {
  "kernelspec": {
   "display_name": "Python 3",
   "language": "python",
   "name": "python3"
  },
  "language_info": {
   "codemirror_mode": {
    "name": "ipython",
    "version": 3
   },
   "file_extension": ".py",
   "mimetype": "text/x-python",
   "name": "python",
   "nbconvert_exporter": "python",
   "pygments_lexer": "ipython3",
   "version": "3.8.5"
  }
 },
 "nbformat": 4,
 "nbformat_minor": 4
}
