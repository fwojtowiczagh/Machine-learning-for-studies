{
 "cells": [
  {
   "cell_type": "markdown",
   "metadata": {},
   "source": [
    "# Linear regression with one variable"
   ]
  },
  {
   "cell_type": "code",
   "execution_count": null,
   "metadata": {},
   "outputs": [],
   "source": [
    "import numpy as np\n",
    "import pandas as pd\n",
    "import matplotlib.pyplot as plt"
   ]
  },
  {
   "cell_type": "code",
   "execution_count": null,
   "metadata": {},
   "outputs": [],
   "source": [
    "import os\n",
    "path = os.getcwd() + '/ex1data1.txt'\n",
    "data = pd.read_csv(path, header=None, names=['Population', 'Profit'])"
   ]
  },
  {
   "cell_type": "code",
   "execution_count": null,
   "metadata": {},
   "outputs": [],
   "source": [
    "data"
   ]
  },
  {
   "cell_type": "markdown",
   "metadata": {},
   "source": [
    "**Example 1:**"
   ]
  },
  {
   "cell_type": "code",
   "execution_count": null,
   "metadata": {},
   "outputs": [],
   "source": [
    "data.head(10)  # displaying 10 first rows"
   ]
  },
  {
   "cell_type": "code",
   "execution_count": null,
   "metadata": {},
   "outputs": [],
   "source": [
    "data.describe()  # examine the data"
   ]
  },
  {
   "cell_type": "markdown",
   "metadata": {},
   "source": [
    "**Example 2:**"
   ]
  },
  {
   "cell_type": "code",
   "execution_count": null,
   "metadata": {},
   "outputs": [],
   "source": [
    "population = data['Population']\n",
    "profit = data['Profit']\n",
    "\n",
    "plt.plot(population, profit, 'bo')  # Plotting the data\n",
    "plt.title('Data plot')\n",
    "plt.xlabel('Population of city in 10,000s')\n",
    "plt.ylabel('Profit in 10,000s')\n",
    "plt.show()"
   ]
  },
  {
   "cell_type": "markdown",
   "metadata": {},
   "source": [
    "**Example 3:**"
   ]
  },
  {
   "cell_type": "code",
   "execution_count": null,
   "metadata": {},
   "outputs": [],
   "source": [
    "shape = data.shape\n",
    "data.insert(0, '1s', 1)  # with function 'insert' I added column of 1s at the beginning"
   ]
  },
  {
   "cell_type": "markdown",
   "metadata": {},
   "source": [
    "**Example 4:**"
   ]
  },
  {
   "cell_type": "code",
   "execution_count": null,
   "metadata": {},
   "outputs": [],
   "source": [
    "X = data.iloc[:,0:2]  # function 'iloc' gives me exact rows by their respective integers\n",
    "y = data.iloc[:,2]\n",
    "#data[['1s', 'Profit']]  # another possibility to get exact data columns"
   ]
  },
  {
   "cell_type": "code",
   "execution_count": null,
   "metadata": {},
   "outputs": [],
   "source": [
    "X.head()  # to check if separation works, I am using 'head' function"
   ]
  },
  {
   "cell_type": "code",
   "execution_count": null,
   "metadata": {},
   "outputs": [],
   "source": [
    "y.head()  # same here"
   ]
  },
  {
   "cell_type": "code",
   "execution_count": null,
   "metadata": {},
   "outputs": [],
   "source": [
    "X = np.matrix(X.values).T  # changing to numpy matrices\n",
    "y = np.matrix(y.values)\n",
    "theta = np.matrix(np.array([0,0]), dtype=float)"
   ]
  },
  {
   "cell_type": "markdown",
   "metadata": {},
   "source": [
    "**Example 5:**"
   ]
  },
  {
   "cell_type": "code",
   "execution_count": null,
   "metadata": {},
   "outputs": [],
   "source": [
    "def computeCost(X_p, y_p, theta_p):\n",
    "    # 2-3 code lines as series of matrix operation\n",
    "    m = y_p.shape[1]\n",
    "    cost = np.sum(np.power(theta_p*X_p - y_p, 2))/(2*m)\n",
    "    return cost"
   ]
  },
  {
   "cell_type": "markdown",
   "metadata": {},
   "source": [
    "**Example 6:**"
   ]
  },
  {
   "cell_type": "code",
   "execution_count": null,
   "metadata": {},
   "outputs": [],
   "source": [
    "computeCost(X, y, theta)  # little test to see the result of written function"
   ]
  },
  {
   "cell_type": "markdown",
   "metadata": {},
   "source": [
    "**Example 7:**"
   ]
  },
  {
   "cell_type": "code",
   "execution_count": null,
   "metadata": {},
   "outputs": [],
   "source": [
    "def simple_gradient(X_p, y_p, theta_p, alpha_p, it_p):\n",
    "    # it - iteration nb.\n",
    "    m = y_p.shape[1]\n",
    "    costs = np.ones(it_p)\n",
    "    for i in range(it_p):\n",
    "        theta_p = theta_p - alpha_p*((theta_p*X_p - y_p)*X_p.T)/m\n",
    "        cost = computeCost(X_p, y_p, theta_p)\n",
    "        costs[i] = cost\n",
    "    return theta_p, costs"
   ]
  },
  {
   "cell_type": "markdown",
   "metadata": {},
   "source": [
    "**Example 8:**"
   ]
  },
  {
   "cell_type": "code",
   "execution_count": null,
   "metadata": {},
   "outputs": [],
   "source": [
    "alpha = 0.01\n",
    "it = 1000\n",
    "\n",
    "theta_new, costs = simple_gradient(X, y, theta, alpha, it)  # little test to see the result of written function\n",
    "theta_new  # new 'theta'"
   ]
  },
  {
   "cell_type": "markdown",
   "metadata": {},
   "source": [
    "**Example 9:**"
   ]
  },
  {
   "cell_type": "code",
   "execution_count": null,
   "metadata": {},
   "outputs": [],
   "source": [
    "computeCost(X, y, theta_new)  # final cost with optimized theta"
   ]
  },
  {
   "cell_type": "markdown",
   "metadata": {},
   "source": [
    "**Example 10:**"
   ]
  },
  {
   "cell_type": "code",
   "execution_count": null,
   "metadata": {},
   "outputs": [],
   "source": [
    "regression = theta_new[0, 0] + theta_new[0, 1]*population \n",
    "\n",
    "plt.plot(population, profit, 'bo', label='data')\n",
    "plt.plot(population, regression, '-r', label='regression')\n",
    "plt.title('Data plot')\n",
    "plt.xlabel('Population of city in 10,000s')\n",
    "plt.ylabel('Profit in 10,000s')\n",
    "plt.legend(loc='lower right')\n",
    "plt.show()"
   ]
  },
  {
   "cell_type": "markdown",
   "metadata": {},
   "source": [
    "**Example 11:**"
   ]
  },
  {
   "cell_type": "code",
   "execution_count": null,
   "metadata": {},
   "outputs": [],
   "source": [
    "plt.plot(costs, '-b', label='costs')\n",
    "plt.xlabel('Iteration number')\n",
    "plt.ylabel('Cost function value')\n",
    "plt.legend(loc='lower left')\n",
    "plt.show()"
   ]
  },
  {
   "cell_type": "markdown",
   "metadata": {},
   "source": [
    "# Linear regression with multiple variables"
   ]
  },
  {
   "cell_type": "code",
   "execution_count": null,
   "metadata": {},
   "outputs": [],
   "source": [
    "path = os.getcwd() + '/ex1data2.txt'\n",
    "data2 = pd.read_csv(path, header=None, names=['Size', 'Bedrooms', 'Price'])\n",
    "data2.head()"
   ]
  },
  {
   "cell_type": "markdown",
   "metadata": {},
   "source": [
    "**Example 1:**"
   ]
  },
  {
   "cell_type": "code",
   "execution_count": null,
   "metadata": {},
   "outputs": [],
   "source": [
    "data2_new = (data2 - data2.mean())/data2.std()  # performing 'feature normalization'\n",
    "data2_new.head()"
   ]
  },
  {
   "cell_type": "markdown",
   "metadata": {},
   "source": [
    "**Example 2:**"
   ]
  },
  {
   "cell_type": "code",
   "execution_count": null,
   "metadata": {},
   "outputs": [],
   "source": [
    "shape = data2_new.shape\n",
    "data2_new.insert(0, '1s', 1)  # with function 'insert' I added column of 1s at the beginning"
   ]
  },
  {
   "cell_type": "code",
   "execution_count": null,
   "metadata": {},
   "outputs": [],
   "source": [
    "X = data2_new.iloc[:,0:3]  # function 'iloc' gives me exact rows by their respective integers\n",
    "y = data2_new.iloc[:,3]"
   ]
  },
  {
   "cell_type": "code",
   "execution_count": null,
   "metadata": {},
   "outputs": [],
   "source": [
    "X.head()  # to check if separation works, I am using 'head' function"
   ]
  },
  {
   "cell_type": "code",
   "execution_count": null,
   "metadata": {},
   "outputs": [],
   "source": [
    "y.head()  # same here"
   ]
  },
  {
   "cell_type": "code",
   "execution_count": null,
   "metadata": {},
   "outputs": [],
   "source": [
    "X = np.matrix(X.values).T  # changing to numpy matrices\n",
    "y = np.matrix(y.values)\n",
    "theta = np.matrix(np.array([0,0,0]), dtype=float)"
   ]
  },
  {
   "cell_type": "code",
   "execution_count": null,
   "metadata": {},
   "outputs": [],
   "source": [
    "computeCost(X, y, theta)  # little test to see the result of written function"
   ]
  },
  {
   "cell_type": "code",
   "execution_count": null,
   "metadata": {},
   "outputs": [],
   "source": [
    "alpha = 0.01\n",
    "it = 1000\n",
    "\n",
    "theta_new, costs = simple_gradient(X, y, theta, alpha, it)  # little test to see the result of written function\n",
    "theta_new  # new 'theta'"
   ]
  },
  {
   "cell_type": "code",
   "execution_count": null,
   "metadata": {},
   "outputs": [],
   "source": [
    "computeCost(X, y, theta_new)  # final cost with optimized theta"
   ]
  },
  {
   "cell_type": "code",
   "execution_count": null,
   "metadata": {},
   "outputs": [],
   "source": [
    "size = data2_new['Size']  # getting data to plot\n",
    "bedrooms = data2_new['Bedrooms']\n",
    "price = data2_new['Price']"
   ]
  },
  {
   "cell_type": "code",
   "execution_count": null,
   "metadata": {},
   "outputs": [],
   "source": [
    "fig = plt.figure()\n",
    "ax = fig.add_subplot(111, projection='3d')\n",
    "\n",
    "ax.text2D(0.05, 0.95, \"Data plot\", transform=ax.transAxes)\n",
    "\n",
    "a = np.arange(-3, 3, 0.25)\n",
    "b = np.arange(-3, 3, 0.25)\n",
    "\n",
    "a, b = np.meshgrid(a, b)\n",
    "\n",
    "reg = theta_new[0, 0] + theta_new[0, 1]*a + theta_new[0, 2]*b\n",
    "\n",
    "ax.scatter(size,bedrooms,price)  # sd plot below is displayed after normalization \n",
    "ax.plot_surface(a, b, reg)\n",
    "ax.set_xlabel('Size')\n",
    "ax.set_ylabel('Bedrooms')\n",
    "ax.set_zlabel('Price')\n",
    "plt.show()"
   ]
  },
  {
   "cell_type": "code",
   "execution_count": null,
   "metadata": {},
   "outputs": [],
   "source": [
    "plt.plot(costs, '-b', label='costs')\n",
    "plt.xlabel('Iteration number')\n",
    "plt.ylabel('Cost function value')\n",
    "plt.legend(loc='upper right')\n",
    "plt.show()"
   ]
  },
  {
   "cell_type": "markdown",
   "metadata": {},
   "source": [
    "# Linear regression - Python packages"
   ]
  },
  {
   "cell_type": "code",
   "execution_count": null,
   "metadata": {},
   "outputs": [],
   "source": [
    "import numpy as np\n",
    "import matplotlib.pyplot as plt\n",
    "from sklearn import datasets, linear_model as linm\n",
    "from sklearn.model_selection import train_test_split\n",
    "from sklearn.metrics import r2_score, mean_squared_error, mean_absolute_error\n",
    " \n",
    "# Regression models\n",
    "# http://scikit-learn.org/stable/modules/linear_model.html\n",
    " \n",
    "# Load the diabetes dataset\n",
    "boston = datasets.load_boston()\n",
    "# print description\n",
    "print(boston.DESCR)\n",
    "# get the data\n",
    "boston_X = boston.data\n",
    "boston_Y = boston.target"
   ]
  },
  {
   "cell_type": "code",
   "execution_count": null,
   "metadata": {},
   "outputs": [],
   "source": [
    "# Normalization\n",
    "boston_X_new = (boston_X - boston_X.mean(axis=0))/boston_X.std(axis=0)\n",
    "boston_Y_new = (boston_Y - boston_Y.mean(axis=0))/boston_Y.std(axis=0)\n",
    "\n",
    "# Split into train and test sets (70-30%)\n",
    "X_train, X_test, Y_train, Y_test = train_test_split(boston_X_new, boston_Y_new, test_size=0.3)\n",
    "\n",
    "# Creating an object \n",
    "regr = linm.LinearRegression()\n",
    "reg_Ridge = linm.Ridge(alpha = .5)\n",
    "reg_Lasso = linm.Lasso(alpha = 5.1)\n",
    "reg_ElNet =linm.ElasticNet(alpha = .5, l1_ratio=0.5)\n",
    "\n",
    "# Learning model on training data\n",
    "regr.fit(X_train, Y_train)\n",
    "# Predicting values using test data\n",
    "Y_predicted = regr.predict(X_test)\n",
    "\n",
    "# Regression coefficients (theta)\n",
    "print('Coefficients: \\n', regr.coef_)\n",
    "\n",
    "#  Residual sum of squares error\n",
    "#error = np.mean((regr.predict(X_test) - Y_test) ** 2)\n",
    "#print(\"Residual sum of squares: {}\".format(error))"
   ]
  },
  {
   "cell_type": "code",
   "execution_count": null,
   "metadata": {},
   "outputs": [],
   "source": [
    "mean_squared_error(Y_test, Y_predicted)  # calculated MSE"
   ]
  },
  {
   "cell_type": "code",
   "execution_count": null,
   "metadata": {},
   "outputs": [],
   "source": [
    "r2_score(Y_test, Y_predicted)  # calculated R2"
   ]
  },
  {
   "cell_type": "code",
   "execution_count": null,
   "metadata": {},
   "outputs": [],
   "source": [
    "fig, ax = plt.subplots(3, 5)  # plotting linear regression on subplots \n",
    "fig.set_size_inches(20, 10)\n",
    "ax = ax.ravel()\n",
    "\n",
    "for i in range(13):\n",
    "    regression = regr.coef_[i]*boston_X_new[:, i]\n",
    "    ax[i].plot(boston_X_new[:, i], boston_Y_new, 'bo', label='data')\n",
    "    ax[i].plot(boston_X_new[:, i], regression, '-r', label='regression')\n",
    "    ax[i].set_title('Feature nr {}'.format(i))\n",
    "    ax[i].legend(loc='best')\n",
    "    \n",
    "plt.show()"
   ]
  },
  {
   "cell_type": "code",
   "execution_count": null,
   "metadata": {},
   "outputs": [],
   "source": [
    "# Learning Ridge model on training data and predicting values using test data\n",
    "reg_Ridge.fit(X_train, Y_train)\n",
    "Y_predicted_Ridge = reg_Ridge.predict(X_test)\n",
    "\n",
    "# Learning Lasso model on training data and predicting values using test data\n",
    "reg_Lasso.fit(X_train, Y_train)\n",
    "Y_predicted_Lasso = reg_Lasso.predict(X_test)\n",
    "\n",
    "# Learning ElasticNet model on training data and predicting values using test data\n",
    "reg_ElNet.fit(X_train, Y_train)\n",
    "Y_predicted_ElNet = reg_ElNet.predict(X_test)"
   ]
  },
  {
   "cell_type": "code",
   "execution_count": null,
   "metadata": {},
   "outputs": [],
   "source": [
    "Linear = mean_absolute_error(Y_test, Y_predicted)  # calculating mean error rate for every regression model\n",
    "Linear"
   ]
  },
  {
   "cell_type": "code",
   "execution_count": null,
   "metadata": {},
   "outputs": [],
   "source": [
    "Ridge = mean_absolute_error(Y_test, Y_predicted_Ridge)\n",
    "Ridge"
   ]
  },
  {
   "cell_type": "code",
   "execution_count": null,
   "metadata": {},
   "outputs": [],
   "source": [
    "Lasso = mean_absolute_error(Y_test, Y_predicted_Lasso)\n",
    "Lasso"
   ]
  },
  {
   "cell_type": "code",
   "execution_count": null,
   "metadata": {},
   "outputs": [],
   "source": [
    "ElasticNet = mean_absolute_error(Y_test, Y_predicted_ElNet)\n",
    "ElasticNet"
   ]
  },
  {
   "cell_type": "markdown",
   "metadata": {},
   "source": [
    "**Conclusion:**\n",
    "As pictured above, we can clearly see, that Lasso model has the highest mean error rate in comparison to others. Therefore it is not the best option in this particular situation."
   ]
  }
 ],
 "metadata": {
  "kernelspec": {
   "display_name": "Python 3",
   "language": "python",
   "name": "python3"
  },
  "language_info": {
   "codemirror_mode": {
    "name": "ipython",
    "version": 3
   },
   "file_extension": ".py",
   "mimetype": "text/x-python",
   "name": "python",
   "nbconvert_exporter": "python",
   "pygments_lexer": "ipython3",
   "version": "3.8.5"
  }
 },
 "nbformat": 4,
 "nbformat_minor": 4
}
