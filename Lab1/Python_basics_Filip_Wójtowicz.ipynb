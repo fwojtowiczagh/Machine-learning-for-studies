{
 "cells": [
  {
   "cell_type": "code",
   "execution_count": null,
   "metadata": {},
   "outputs": [],
   "source": [
    "# Import wszystkich podanych bibliotek w poleceniu zadania\n",
    "import numpy as np\n",
    "import matplotlib.pyplot as plt\n",
    "import pandas as pd"
   ]
  },
  {
   "cell_type": "code",
   "execution_count": null,
   "metadata": {},
   "outputs": [],
   "source": [
    "from sklearn.datasets import load_iris\n",
    "\n",
    "# load the famous iris data\n",
    "irisRaw = load_iris()\n",
    "\n",
    "iris = pd.DataFrame(data= np.c_[irisRaw['data'], irisRaw['target']],\n",
    "                     columns= irisRaw['feature_names'] + ['target'])"
   ]
  },
  {
   "cell_type": "code",
   "execution_count": null,
   "metadata": {
    "scrolled": true
   },
   "outputs": [],
   "source": [
    "# Podpunkt 1 - wyswietlenie danych.\n",
    "iris"
   ]
  },
  {
   "cell_type": "code",
   "execution_count": null,
   "metadata": {},
   "outputs": [],
   "source": [
    "# Podpunkt 2 - liczba kolumn i wierszy.\n",
    "rows = iris.shape[0] # funkcja odpowiedzialna za podanie rozmiaru danych\n",
    "columns = iris.shape[1]\n",
    "\n",
    "print('Liczba wierszów: {}'.format(rows))\n",
    "print('liczba kolumn: {}'. format(columns))"
   ]
  },
  {
   "cell_type": "code",
   "execution_count": null,
   "metadata": {},
   "outputs": [],
   "source": [
    "# Podpunkt 3 - podstawowe informacje dla poszczególnych kolumn, przy użyciu 'describe'.\n",
    "iris.describe()"
   ]
  },
  {
   "cell_type": "code",
   "execution_count": null,
   "metadata": {},
   "outputs": [],
   "source": [
    "# Podpunkt 4 - działanie metody 'groupby'.\n",
    "iris.groupby(by='sepal length (cm)').sum() # suma odpowiednich klas, dla kolejnych wartości 'sepal length' "
   ]
  },
  {
   "cell_type": "code",
   "execution_count": null,
   "metadata": {},
   "outputs": [],
   "source": [
    "iris.groupby(by='petal length (cm)').mean() # średnia odpowiednich klas, dla kolejnych wartości 'petal length' "
   ]
  },
  {
   "cell_type": "markdown",
   "metadata": {},
   "source": [
    "**Do podpunktu 4:**\n",
    "Funkcja 'groupby' zwraca obiekt, który zawiera informacje o grupach. Przy pomocy funkcji typu 'mean', czy też 'sum' możemy zobaczyć wartości odpowiednich grup."
   ]
  },
  {
   "cell_type": "code",
   "execution_count": null,
   "metadata": {},
   "outputs": [],
   "source": [
    "# Podpunkt 5 - pierwsze 5 wierszy.\n",
    "iris.head(5)"
   ]
  },
  {
   "cell_type": "code",
   "execution_count": null,
   "metadata": {},
   "outputs": [],
   "source": [
    "# Podpunkt 6 - sprawdzenie brakujących danych.\n",
    "iris.dropna() "
   ]
  },
  {
   "cell_type": "markdown",
   "metadata": {},
   "source": [
    "**Do podpunktu 6:** Po zauważeniu, że rozmiary pozostały bez zmian, można wnioskować, że nie było żadnych brakujących danych."
   ]
  },
  {
   "cell_type": "code",
   "execution_count": null,
   "metadata": {},
   "outputs": [],
   "source": [
    "# Podpunkt 7 - sortowanie rosnąco.\n",
    "iris.sort_values(by='sepal width (cm)', ascending=True)"
   ]
  },
  {
   "cell_type": "markdown",
   "metadata": {},
   "source": [
    "**Do podpunktu 7:** Do posortowania rosnąco danych względem drugiej kolumny wystarczy podac nazwę tej kolumny w argumentach. W celu posortowania malejąco należy ustawić odpowiednio argument 'ascedning'."
   ]
  },
  {
   "cell_type": "code",
   "execution_count": null,
   "metadata": {},
   "outputs": [],
   "source": [
    "# Podpunkt 8 - indeksy oraz wartości najmniejszych i największych w 3 kolumnie.\n",
    "minimum = iris['petal length (cm)'].min() # podanie kolumny, do której wykorzystujemy funkcje 'min', by znaleźc wartość\n",
    "print('Wartość minimum w 3 kolumnie: {}'.format(minimum))"
   ]
  },
  {
   "cell_type": "code",
   "execution_count": null,
   "metadata": {},
   "outputs": [],
   "source": [
    "idxmin = iris['petal length (cm)'].idxmin() # podanie kolumny, do której wykorzystujemy funkcje 'idxmin', do znalezienia indeksu\n",
    "print('Indeks wiersza dla minimalnej wartości w 3 kolumnie: {}'.format(idxmin))"
   ]
  },
  {
   "cell_type": "code",
   "execution_count": null,
   "metadata": {},
   "outputs": [],
   "source": [
    "maximum = iris['petal length (cm)'].max() # analogicznie jak dla wartości minimalnej \n",
    "print('Wartość maksimum w 3 kolumnie: {}'.format(maximum))"
   ]
  },
  {
   "cell_type": "code",
   "execution_count": null,
   "metadata": {},
   "outputs": [],
   "source": [
    "idxmax = iris['petal length (cm)'].idxmax()\n",
    "print('Indeks wiersza dla maksymalnej wartości w 3 kolumnie: {}'.format(idxmax))"
   ]
  },
  {
   "cell_type": "code",
   "execution_count": null,
   "metadata": {},
   "outputs": [],
   "source": [
    "# Podpunkt 9 - odchylenie standardowe każdej kolumny.\n",
    "iris.std()"
   ]
  },
  {
   "cell_type": "code",
   "execution_count": null,
   "metadata": {},
   "outputs": [],
   "source": [
    "# Podpunkt 10 - wyodrębnienie wierszy, dla których długość kielicha kwiatów jest większa od średniej długości.\n",
    "mean = iris['sepal length (cm)'].mean() # Średnia\n",
    "\n",
    "iris[iris['sepal length (cm)'] > mean] # wyświetlenie wierszy spełniających warunek\n",
    "#iris.loc[iris['sepal length (cm)'] > mean]  # inna opcja"
   ]
  },
  {
   "cell_type": "code",
   "execution_count": null,
   "metadata": {},
   "outputs": [],
   "source": [
    "# Podpunkt 11 - wyświetlenie histogramów z wyróżnieniem poszczególnych klas\n",
    "plt.figure(figsize=(20, 10)) # ustawiam rozmiar\n",
    "\n",
    "plt.subplot(151) # kolejne subploty\n",
    "sepal_length_hist = iris['sepal length (cm)'].hist() # funkcja 'hist' tworzy i 'plotuje' wykres\n",
    "plt.title('sepal length (cm)')\n",
    "\n",
    "plt.subplot(152)\n",
    "sepal_width_hist = iris['sepal width (cm)'].hist()\n",
    "plt.title('sepal width (cm)')\n",
    "\n",
    "plt.subplot(153)\n",
    "petal_length_hist = iris['petal length (cm)'].hist()\n",
    "plt.title('petal length (cm)')\n",
    "\n",
    "plt.subplot(154)\n",
    "petal_width_hist = iris['petal width (cm)'].hist()\n",
    "plt.title('petal width (cm)')\n",
    "\n",
    "plt.subplot(155)\n",
    "target_hist = iris['target'].hist()\n",
    "plt.title('target')\n",
    "plt.show()"
   ]
  }
 ],
 "metadata": {
  "kernelspec": {
   "display_name": "Python 3",
   "language": "python",
   "name": "python3"
  },
  "language_info": {
   "codemirror_mode": {
    "name": "ipython",
    "version": 3
   },
   "file_extension": ".py",
   "mimetype": "text/x-python",
   "name": "python",
   "nbconvert_exporter": "python",
   "pygments_lexer": "ipython3",
   "version": "3.8.5"
  }
 },
 "nbformat": 4,
 "nbformat_minor": 4
}
